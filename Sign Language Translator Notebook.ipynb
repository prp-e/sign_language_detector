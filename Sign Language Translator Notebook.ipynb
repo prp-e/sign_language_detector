{
 "cells": [
  {
   "cell_type": "code",
   "execution_count": 1,
   "id": "thousand-factor",
   "metadata": {},
   "outputs": [],
   "source": [
    "import mediapipe as mp \n",
    "import cv2"
   ]
  },
  {
   "cell_type": "code",
   "execution_count": 2,
   "id": "thirty-collaboration",
   "metadata": {},
   "outputs": [],
   "source": [
    "mp_drawing = mp.solutions.drawing_utils\n",
    "mp_hands = mp.solutions.hands"
   ]
  },
  {
   "cell_type": "code",
   "execution_count": 53,
   "id": "utility-obligation",
   "metadata": {},
   "outputs": [],
   "source": [
    "camera = cv2.VideoCapture(1)\n",
    "with mp_hands.Hands(min_detection_confidence=0.5, min_tracking_confidence=0.5, max_num_hands = 1) as hands:\n",
    "    while camera.isOpened():\n",
    "        _, image = camera.read()\n",
    "        image = cv2.cvtColor(image, cv2.COLOR_BGR2RGB)\n",
    "        image.flags.writeable = False \n",
    "        results = hands.process(image)\n",
    "\n",
    "        image.flags.writeable = True\n",
    "        landmark_list = []\n",
    "        if results.multi_hand_landmarks:\n",
    "            for landmark in results.multi_hand_landmarks:\n",
    "                mp_drawing.draw_landmarks(image, landmark, mp_hands.HAND_CONNECTIONS)\n",
    "            \n",
    "        cv2.imshow(\"Camera No. 1\", cv2.cvtColor(image, cv2.COLOR_RGB2BGR))\n",
    "        if cv2.waitKey(10) & 0xff == ord('q'):\n",
    "            break\n",
    "\n",
    "camera.release()\n",
    "cv2.destroyAllWindows()"
   ]
  },
  {
   "cell_type": "code",
   "execution_count": 30,
   "id": "young-parts",
   "metadata": {},
   "outputs": [
    {
     "data": {
      "text/plain": [
       "21"
      ]
     },
     "execution_count": 30,
     "metadata": {},
     "output_type": "execute_result"
    }
   ],
   "source": [
    "num_coord = len(results.multi_hand_landmarks[0].landmark)\n",
    "num_coord"
   ]
  },
  {
   "cell_type": "code",
   "execution_count": 82,
   "id": "latest-particular",
   "metadata": {},
   "outputs": [],
   "source": [
    "import csv\n",
    "import numpy as np \n",
    "import os"
   ]
  },
  {
   "cell_type": "code",
   "execution_count": 73,
   "id": "animated-tampa",
   "metadata": {},
   "outputs": [],
   "source": [
    "landmarks = ['class']\n",
    "for num in range(1, num_coord + 1):\n",
    "    landmarks += [f'x{num}', f'y{num}', f'z{num}'] "
   ]
  },
  {
   "cell_type": "code",
   "execution_count": 48,
   "id": "white-copyright",
   "metadata": {
    "scrolled": false
   },
   "outputs": [
    {
     "data": {
      "text/plain": [
       "85"
      ]
     },
     "execution_count": 48,
     "metadata": {},
     "output_type": "execute_result"
    }
   ],
   "source": [
    "landmarks\n",
    "len(landmarks)"
   ]
  },
  {
   "cell_type": "code",
   "execution_count": 74,
   "id": "committed-mechanics",
   "metadata": {},
   "outputs": [],
   "source": [
    "with open('coords.csv', mode='w', newline='') as f:\n",
    "    csv_writer = csv.writer(f, delimiter=',', quotechar='\"', quoting=csv.QUOTE_MINIMAL)\n",
    "    csv_writer.writerow(landmarks)\n",
    "    "
   ]
  },
  {
   "cell_type": "code",
   "execution_count": 90,
   "id": "adolescent-screening",
   "metadata": {},
   "outputs": [],
   "source": [
    "class_id = \"rock on\""
   ]
  },
  {
   "cell_type": "code",
   "execution_count": 91,
   "id": "smart-advance",
   "metadata": {},
   "outputs": [],
   "source": [
    "camera = cv2.VideoCapture(1)\n",
    "with mp_hands.Hands(min_detection_confidence=0.5, min_tracking_confidence=0.5, max_num_hands = 1) as hands:\n",
    "    while camera.isOpened():\n",
    "        _, image = camera.read()\n",
    "        image = cv2.cvtColor(image, cv2.COLOR_BGR2RGB)\n",
    "        image.flags.writeable = False \n",
    "        results = hands.process(image)\n",
    "\n",
    "        image.flags.writeable = True\n",
    "        landmark_list = []\n",
    "        if results.multi_hand_landmarks:\n",
    "            for landmark in results.multi_hand_landmarks:\n",
    "                mp_drawing.draw_landmarks(image, landmark, mp_hands.HAND_CONNECTIONS)\n",
    "        \n",
    "        try:\n",
    "            hand = enumerate(results.multi_hand_landmarks[0].landmark)\n",
    "            hand_row = list(np.array([[landmark.x, landmark.y, landmark.z] for _, landmark in hand]).flatten())\n",
    "            hand_row.insert(0, class_id)\n",
    "            #print(hand_row)\n",
    "            with open('coords.csv', mode='a', newline='') as f:\n",
    "                csv_writer = csv.writer(f, delimiter=',', quotechar='\"', quoting=csv.QUOTE_MINIMAL)\n",
    "                csv_writer.writerow(hand_row)\n",
    "                \n",
    "        except Exception as e:\n",
    "            pass\n",
    "            \n",
    "        cv2.imshow(\"Camera No. 1\", cv2.cvtColor(image, cv2.COLOR_RGB2BGR))\n",
    "        if cv2.waitKey(10) & 0xff == ord('q'):\n",
    "            break\n",
    "\n",
    "camera.release()\n",
    "cv2.destroyAllWindows()"
   ]
  },
  {
   "cell_type": "code",
   "execution_count": 92,
   "id": "functional-signal",
   "metadata": {},
   "outputs": [],
   "source": [
    "import pandas as pd \n",
    "from sklearn.model_selection import train_test_split"
   ]
  },
  {
   "cell_type": "code",
   "execution_count": 93,
   "id": "decent-edinburgh",
   "metadata": {},
   "outputs": [],
   "source": [
    "df = pd.read_csv('coords.csv')"
   ]
  },
  {
   "cell_type": "code",
   "execution_count": 96,
   "id": "agreed-bread",
   "metadata": {},
   "outputs": [],
   "source": [
    "X = df.drop('class', axis=1)\n",
    "y = df['class']"
   ]
  },
  {
   "cell_type": "code",
   "execution_count": 97,
   "id": "creative-recording",
   "metadata": {},
   "outputs": [],
   "source": [
    "x_train, x_test, y_train, y_test = train_test_split(X, y, test_size=0.3, random_state=1234)"
   ]
  },
  {
   "cell_type": "code",
   "execution_count": 104,
   "id": "measured-livestock",
   "metadata": {},
   "outputs": [],
   "source": [
    "from sklearn.pipeline import make_pipeline \n",
    "from sklearn.preprocessing import StandardScaler \n",
    "\n",
    "from sklearn.linear_model import LogisticRegression, RidgeClassifier\n",
    "from sklearn.ensemble import RandomForestClassifier, GradientBoostingClassifier"
   ]
  },
  {
   "cell_type": "code",
   "execution_count": 106,
   "id": "classical-headline",
   "metadata": {},
   "outputs": [],
   "source": [
    "pipelines = {\n",
    "    #'lr':make_pipeline(StandardScaler(), LogisticRegression()),\n",
    "    'rc':make_pipeline(StandardScaler(), RidgeClassifier()),\n",
    "    'rf':make_pipeline(StandardScaler(), RandomForestClassifier()),\n",
    "    'gb':make_pipeline(StandardScaler(), GradientBoostingClassifier()),\n",
    "}"
   ]
  },
  {
   "cell_type": "code",
   "execution_count": 107,
   "id": "acknowledged-chosen",
   "metadata": {},
   "outputs": [],
   "source": [
    "fit_models = {}\n",
    "for algo, pipeline in pipelines.items():\n",
    "    model = pipeline.fit(x_train, y_train)\n",
    "    fit_models[algo] = model"
   ]
  },
  {
   "cell_type": "code",
   "execution_count": 111,
   "id": "directed-intention",
   "metadata": {},
   "outputs": [],
   "source": [
    "from sklearn.metrics import accuracy_score"
   ]
  },
  {
   "cell_type": "code",
   "execution_count": 112,
   "id": "southern-interference",
   "metadata": {},
   "outputs": [
    {
     "name": "stdout",
     "output_type": "stream",
     "text": [
      "rc 0.9838998211091234\n",
      "rf 0.9856887298747764\n",
      "gb 0.9838998211091234\n"
     ]
    }
   ],
   "source": [
    "for algo, model in fit_models.items():\n",
    "    yhat = model.predict(x_test)\n",
    "    print(algo, accuracy_score(y_test, yhat))"
   ]
  },
  {
   "cell_type": "code",
   "execution_count": 126,
   "id": "colonial-modern",
   "metadata": {
    "scrolled": true
   },
   "outputs": [],
   "source": [
    "model = fit_models['rf']\n"
   ]
  },
  {
   "cell_type": "code",
   "execution_count": 125,
   "id": "compatible-auckland",
   "metadata": {},
   "outputs": [],
   "source": [
    "camera = cv2.VideoCapture(1)\n",
    "with mp_hands.Hands(min_detection_confidence=0.5, min_tracking_confidence=0.5, max_num_hands = 1) as hands:\n",
    "    while camera.isOpened():\n",
    "        _, image = camera.read()\n",
    "        image = cv2.cvtColor(image, cv2.COLOR_BGR2RGB)\n",
    "        image.flags.writeable = False \n",
    "        results = hands.process(image)\n",
    "\n",
    "        image.flags.writeable = True\n",
    "        landmark_list = []\n",
    "        if results.multi_hand_landmarks:\n",
    "            for landmark in results.multi_hand_landmarks:\n",
    "                mp_drawing.draw_landmarks(image, landmark, mp_hands.HAND_CONNECTIONS)\n",
    "        \n",
    "        try:\n",
    "            hand = enumerate(results.multi_hand_landmarks[0].landmark)\n",
    "            hand_row = list(np.array([[landmark.x, landmark.y, landmark.z] for _, landmark in hand]).flatten())\n",
    "            x = pd.DataFrame([hand_row])\n",
    "            prediction = model.predict(x)\n",
    "            prediction = prediction[0]\n",
    "            cv2.putText(image, prediction, (0, 50), cv2.FONT_HERSHEY_COMPLEX, 1, (0, 0, 0), 2, cv2.LINE_AA)\n",
    "                \n",
    "        except Exception as e:\n",
    "            pass\n",
    "            \n",
    "        cv2.imshow(\"Camera No. 1\", cv2.cvtColor(image, cv2.COLOR_RGB2BGR))\n",
    "        if cv2.waitKey(10) & 0xff == ord('q'):\n",
    "            break\n",
    "\n",
    "camera.release()\n",
    "cv2.destroyAllWindows()"
   ]
  }
 ],
 "metadata": {
  "kernelspec": {
   "display_name": "Python 3",
   "language": "python",
   "name": "python3"
  },
  "language_info": {
   "codemirror_mode": {
    "name": "ipython",
    "version": 3
   },
   "file_extension": ".py",
   "mimetype": "text/x-python",
   "name": "python",
   "nbconvert_exporter": "python",
   "pygments_lexer": "ipython3",
   "version": "3.8.6"
  }
 },
 "nbformat": 4,
 "nbformat_minor": 5
}
